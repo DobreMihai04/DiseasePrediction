{
 "cells": [
  {
   "cell_type": "code",
   "execution_count": null,
   "id": "21bc6852-0c22-4836-9a42-6221177124c7",
   "metadata": {},
   "outputs": [],
   "source": [
    "from tensorflow.keras.preprocessing import image_dataset_from_directory\n",
    "from tensorflow.keras.callbacks import ModelCheckpoint\n",
    "from tensorflow.keras import layers, Model\n",
    "import keras_cv\n",
    "from tensorflow import keras\n",
    "import tensorflow.keras.applications as keras_applications\n",
    "import json\n",
    "import numpy as np\n",
    "from PIL import Image\n",
    "from io import BytesIO\n",
    "import boto3\n",
    "import os"
   ]
  },
  {
   "cell_type": "code",
   "execution_count": null,
   "id": "fa63813b-429d-4f9f-b018-cf88daa074db",
   "metadata": {},
   "outputs": [],
   "source": [
    "#make sure tf sees GPU\n",
    "tf.config.list_physical_devices()"
   ]
  },
  {
   "cell_type": "code",
   "execution_count": null,
   "id": "0f33da39-071b-49ee-9f6f-91c9a4518a0c",
   "metadata": {},
   "outputs": [],
   "source": [
    "# path to data directories\n",
    "train_dir = 'data/split_with_back/train'\n",
    "val_dir = 'data/split_with_back/val'\n",
    "test_dir = 'data/split_with_back/test'"
   ]
  },
  {
   "cell_type": "code",
   "execution_count": null,
   "id": "97cd1ee2-950d-49a5-ba87-27c7f278a804",
   "metadata": {},
   "outputs": [],
   "source": [
    "# load data\n",
    "train_dataset = image_dataset_from_directory(\n",
    "    train_dir,\n",
    "    labels='inferred',\n",
    "    label_mode='categorical',\n",
    "    color_mode='rgb',\n",
    "    batch_size=None,\n",
    "    shuffle=True,\n",
    "    seed=42,\n",
    "    )\n",
    "\n",
    "val_dataset = image_dataset_from_directory(\n",
    "    val_dir,\n",
    "    labels='inferred',\n",
    "    label_mode='categorical',\n",
    "    color_mode='rgb',\n",
    "    batch_size=None,\n",
    "    shuffle=True,\n",
    "    seed=42,\n",
    "    )\n",
    "\n",
    "test_dataset = image_dataset_from_directory(\n",
    "    test_dir,\n",
    "    labels='inferred',\n",
    "    label_mode='categorical',\n",
    "    color_mode='rgb',\n",
    "    batch_size=None,\n",
    "    shuffle=True,\n",
    "    seed=42,\n",
    "    )\n",
    "\n",
    "#get class names\n",
    "class_names = train_dataset.class_names"
   ]
  },
  {
   "cell_type": "code",
   "execution_count": null,
   "id": "8e2132ce-920f-4513-af70-2159130e391a",
   "metadata": {},
   "outputs": [],
   "source": [
    "SCALED_SIZE = 224\n",
    "\n",
    "BATCH_SIZE = 32\n",
    "\n",
    "resize_and_rescale = tf.keras.Sequential([\n",
    "  layers.Resizing(SCALED_SIZE, SCALED_SIZE),\n",
    "  layers.Rescaling(1./255)\n",
    "])\n",
    "\n",
    "data_augmentation = tf.keras.Sequential([\n",
    "  tf.keras.layers.RandomFlip(\"horizontal_and_vertical\"),\n",
    "  tf.keras.layers.RandomRotation(0.2),\n",
    "  tf.keras.layers.RandomContrast(0.2),\n",
    "  keras_cv.layers.RandomShear(0.2),\n",
    "])\n",
    "\n",
    "AUTOTUNE = tf.data.AUTOTUNE\n",
    "\n",
    "def prepare(ds, shuffle=False, augment=False):\n",
    "  if shuffle:\n",
    "    ds = ds.shuffle(1000)\n",
    "      \n",
    "  # batch all datasets\n",
    "  ds = ds.batch(BATCH_SIZE)\n",
    "\n",
    "  # use buffered prefetching\n",
    "  return ds.prefetch(buffer_size=AUTOTUNE)\n",
    "\n",
    "    "
   ]
  },
  {
   "cell_type": "code",
   "execution_count": null,
   "id": "1e9d4471-5c75-4382-9dc9-01e283288f47",
   "metadata": {},
   "outputs": [],
   "source": [
    "train_dataset = prepare(train_dataset, shuffle=True, augment=True)\n",
    "val_dataset = prepare(val_dataset)\n",
    "test_dataset = prepare(test_dataset)"
   ]
  },
  {
   "cell_type": "code",
   "execution_count": null,
   "id": "b5675ce7-0cfd-4316-a3ee-e48ca97b2a34",
   "metadata": {},
   "outputs": [],
   "source": [
    "# get the base model\n",
    "IMG_SHAPE = (224, 224, 3)  \n",
    "base_model = keras_applications.ResNet101(input_shape=IMG_SHAPE,\n",
    "                                            include_top=False, \n",
    "                                            weights='imagenet') \n",
    "\n",
    "base_model.trainable = False"
   ]
  },
  {
   "cell_type": "code",
   "execution_count": null,
   "id": "86a3e20e-d68f-4651-8e3f-2080d166b71c",
   "metadata": {},
   "outputs": [],
   "source": [
    "# functional api model construction\n",
    "model_input = (None,None,3)\n",
    "\n",
    "inputs = tf.keras.Input(shape=model_input)\n",
    "x = resize_and_rescale(inputs)\n",
    "x = data_augmentation(x)\n",
    "x = base_model(x, training=False) \n",
    "x = layers.GlobalAveragePooling2D()(x)\n",
    "x = layers.Dense(1024, activation='relu')(x) \n",
    "outputs = layers.Dense(len(class_names), activation='softmax')(x) \n",
    "\n",
    "model = Model(inputs, outputs)"
   ]
  },
  {
   "cell_type": "code",
   "execution_count": null,
   "id": "8e5cf073-41f2-480c-9129-e1dadd58709e",
   "metadata": {},
   "outputs": [],
   "source": [
    "# compile model\n",
    "model.compile(optimizer='adam',\n",
    "              loss='categorical_crossentropy',\n",
    "              metrics=['accuracy'])\n"
   ]
  },
  {
   "cell_type": "code",
   "execution_count": null,
   "id": "7b156e8d-7db8-487e-a64a-f7ea3337495d",
   "metadata": {},
   "outputs": [],
   "source": [
    "model.summary()"
   ]
  },
  {
   "cell_type": "code",
   "execution_count": null,
   "id": "43fbd3be-b95d-42ef-b96a-1fe6fdef4973",
   "metadata": {},
   "outputs": [],
   "source": [
    "# create callback to keep best weights\n",
    "checkpoint_cb = ModelCheckpoint('best_model.keras', save_best_only=True, monitor='val_accuracy')\n",
    "\n",
    "# start fine-tuning\n",
    "history = model.fit(train_dataset,\n",
    "                    epochs=100, \n",
    "                    validation_data=val_dataset,\n",
    "                    callbacks=[checkpoint_cb])\n",
    "\n",
    "# load best weights\n",
    "model.load_weights('best_model.keras')"
   ]
  },
  {
   "cell_type": "code",
   "execution_count": null,
   "id": "44949db5-7e32-43be-a1b1-2af5bfc08d54",
   "metadata": {},
   "outputs": [],
   "source": [
    "# unfreeze base model\n",
    "base_model.trainable = True\n",
    "\n",
    "# refreeze all layers except for the last 5\n",
    "for layer in base_model.layers[:-5]:\n",
    "    layer.trainable = False\n",
    "\n",
    "for layer in base_model.layers:\n",
    "    print(layer, layer.trainable)\n",
    "\n",
    "model.compile(optimizer=tf.keras.optimizers.Adam(learning_rate=1e-5),\n",
    "              loss='categorical_crossentropy',\n",
    "              metrics=['accuracy'])\n",
    "\n",
    "checkpoint_cb2 = ModelCheckpoint('best_model2.keras', save_best_only=True, monitor='val_accuracy')\n",
    "\n",
    "# continue training\n",
    "history_fine = model.fit(train_dataset,\n",
    "                         epochs=50, \n",
    "                         validation_data=val_dataset,\n",
    "                         callbacks=[checkpoint_cb2])\n",
    "\n",
    "model.load_weights('best_model2.keras')"
   ]
  },
  {
   "cell_type": "code",
   "execution_count": null,
   "id": "773bcc8b-f5db-4453-81a6-d7a35be7c3a4",
   "metadata": {},
   "outputs": [],
   "source": [
    "# evaluate the model on the test set\n",
    "val_loss, val_accuracy = model.evaluate(test_dataset)\n",
    "\n",
    "print(f\"Validation loss: {val_loss}\")\n",
    "print(f\"Validation accuracy: {val_accuracy}\")"
   ]
  },
  {
   "cell_type": "code",
   "execution_count": null,
   "id": "f4e97fe7-41b0-4694-8e32-ab5c52c70b08",
   "metadata": {},
   "outputs": [],
   "source": [
    "# save model after done training\n",
    "model.save('trained_models/base_model.keras')"
   ]
  },
  {
   "cell_type": "code",
   "execution_count": null,
   "id": "b17be183-c91e-48f1-8c7c-71b688b1271a",
   "metadata": {},
   "outputs": [],
   "source": [
    "#try out a prediction on certain image similar to app\n",
    "model_loaded = keras.models.load_model('trained_models/base_model.keras')\n",
    "\n",
    "def read_file_as_image(data) -> np.ndarray:\n",
    "    with Image.open(image_path) as img:\n",
    "        return np.array(img)"
   ]
  },
  {
   "cell_type": "code",
   "execution_count": null,
   "id": "ea6d2d0a-09a2-4ba3-95e6-e3bb4e4a25be",
   "metadata": {},
   "outputs": [],
   "source": [
    "image_path = 'data/split/new_data/apple_black_rot/apple_black_rot.jpg' \n",
    "image = read_file_as_image(image_path)\n",
    "\n",
    "img_batch = np.expand_dims(image, axis=0)  #add the batch dimension\n",
    "print(img_batch.shape)"
   ]
  },
  {
   "cell_type": "code",
   "execution_count": null,
   "id": "eed0ebf6-d8e7-44c2-8702-1707354ab436",
   "metadata": {},
   "outputs": [],
   "source": [
    "prediction = model_loaded.predict(img_batch)"
   ]
  },
  {
   "cell_type": "code",
   "execution_count": null,
   "id": "2b51dd04-a311-4ce5-8c2a-485121b1b26a",
   "metadata": {},
   "outputs": [],
   "source": [
    "# load class names and check predicted label\n",
    "predicted_class = class_names[np.argmax(predictions[0])]\n",
    "confidence = float(np.max(predictions[0]))\n",
    "\n",
    "print(predicted_class)\n",
    "print(confidence)\n",
    "    "
   ]
  },
  {
   "cell_type": "code",
   "execution_count": null,
   "id": "f730a342-cb1b-4ecc-85f5-84f15748eaf3",
   "metadata": {},
   "outputs": [],
   "source": [
    "#put new model to s3\n",
    "AWS_DEFAULT_REGION = os.environ[\"AWS_DEFAULT_REGION\"]\n",
    "AWS_ACCESS_KEY_ID = os.environ[\"AWS_ACCESS_KEY_ID\"]\n",
    "AWS_SECRET_ACCESS_KEY = os.environ[\"AWS_SECRET_ACCESS_KEY\"]\n",
    "\n",
    "s3 = boto3.client('s3')\n",
    "\n",
    "s3 = boto3.resource(\n",
    "    service_name='s3',\n",
    "    region_name=AWS_DEFAULT_REGION,\n",
    "    aws_access_key_id=AWS_ACCESS_KEY_ID,\n",
    "    aws_secret_access_key=AWS_SECRET_ACCESS_KEY\n",
    ")\n",
    "\n",
    "for bucket in s3.buckets.all():\n",
    "    print(bucket.name)\n"
   ]
  },
  {
   "cell_type": "code",
   "execution_count": null,
   "id": "7c84939f-8c10-483a-8458-5232bf34c43f",
   "metadata": {},
   "outputs": [],
   "source": [
    "# upload model to S3 bucket\n",
    "s3.Bucket('modelsbucket0408').upload_file(Filename='trained_models/base_model.keras', Key='base_model.keras')"
   ]
  },
  {
   "cell_type": "code",
   "execution_count": null,
   "id": "19fa5aa7-8f1c-44b3-b454-38d7706477fc",
   "metadata": {},
   "outputs": [],
   "source": [
    "# upload labels to s3 bucket\n",
    "fixed_class_names = [s.replace(\"___\", \"  ->  \") for s in class_names]\n",
    "fixed_class_names = [s.replace(\",\", \"\") for s in fixed_class_names]\n",
    "fixed_class_names = [s.replace(\",\", \"\") for s in fixed_class_names]\n",
    "fixed_class_names = [s.replace(\"_\", \" \") for s in fixed_class_names]\n",
    "\n",
    "\n",
    "\n",
    "json_file_path = 'trained_models/base_model_class_names.json'\n",
    "with open(json_file_path, 'w') as json_file:\n",
    "    json.dump(fixed_class_names, json_file)\n",
    "\n",
    "print(fixed_class_names)\n",
    "\n",
    "s3.Bucket('modelsbucket0408').upload_file(Filename='trained_models/base_model_class_names.json', Key='base_model_class_names.json')\n",
    "\n"
   ]
  }
 ],
 "metadata": {
  "kernelspec": {
   "display_name": "Python 3 (ipykernel)",
   "language": "python",
   "name": "python3"
  },
  "language_info": {
   "codemirror_mode": {
    "name": "ipython",
    "version": 3
   },
   "file_extension": ".py",
   "mimetype": "text/x-python",
   "name": "python",
   "nbconvert_exporter": "python",
   "pygments_lexer": "ipython3",
   "version": "3.11.0rc1"
  }
 },
 "nbformat": 4,
 "nbformat_minor": 5
}
